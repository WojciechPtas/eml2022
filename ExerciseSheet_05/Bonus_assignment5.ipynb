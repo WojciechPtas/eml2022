{
 "cells": [
  {
   "cell_type": "code",
   "execution_count": 54,
   "id": "75b3d681-1664-43bf-9dd7-96128c01610c",
   "metadata": {},
   "outputs": [],
   "source": [
    "import random\n",
    "\n",
    "import pandas as pd\n",
    "import numpy as np\n",
    "import matplotlib.pyplot as plt"
   ]
  },
  {
   "cell_type": "code",
   "execution_count": 55,
   "id": "1879fb87-11e9-4200-b6ca-033d545a4dc6",
   "metadata": {},
   "outputs": [],
   "source": [
    "# Load your data\n",
    "data = np.genfromtxt('data2.csv', delimiter=',')\n",
    "N, d = data.shape"
   ]
  },
  {
   "cell_type": "code",
   "execution_count": 56,
   "id": "8db243b7-edfa-4278-9ea9-0579b56e592a",
   "metadata": {},
   "outputs": [],
   "source": [
    "from scipy.stats import multivariate_normal\n",
    "k = 2\n",
    "pi = np.array([1/k for i in range(k)])\n",
    "gamma = np.array([[0.5 for j in range(k)] for i in range(N)])\n",
    "means = np.array([[random.uniform(min(data[:,j]), max(data[:, j])) for j in range(d)] for i in range(k)])\n",
    "cov = np.array([np.diag([1 for i in range(d)]) for j in range(k)])"
   ]
  },
  {
   "cell_type": "code",
   "execution_count": 57,
   "id": "8730ebfe-692d-48bc-9b7c-9a37c4f4c866",
   "metadata": {},
   "outputs": [
    {
     "name": "stdout",
     "output_type": "stream",
     "text": [
      "(2, 2, 2)\n",
      "212.27706785137977\n",
      "() 2.0564016994703413\n",
      "()\n",
      "2.568306261512413\n",
      "() 1.7077985719062279\n"
     ]
    },
    {
     "ename": "IndexError",
     "evalue": "invalid index to scalar variable.",
     "output_type": "error",
     "traceback": [
      "\u001B[0;31m---------------------------------------------------------------------------\u001B[0m",
      "\u001B[0;31mIndexError\u001B[0m                                Traceback (most recent call last)",
      "Cell \u001B[0;32mIn [57], line 6\u001B[0m\n\u001B[1;32m      4\u001B[0m \u001B[38;5;28;01mfor\u001B[39;00m i \u001B[38;5;129;01min\u001B[39;00m \u001B[38;5;28mrange\u001B[39m(N):\n\u001B[1;32m      5\u001B[0m     \u001B[38;5;28;01mfor\u001B[39;00m j \u001B[38;5;129;01min\u001B[39;00m \u001B[38;5;28mrange\u001B[39m(k):\n\u001B[0;32m----> 6\u001B[0m         nominator \u001B[38;5;241m=\u001B[39m pi[j] \u001B[38;5;241m*\u001B[39m multivariate_normal\u001B[38;5;241m.\u001B[39mpdf(data[i, :], mean\u001B[38;5;241m=\u001B[39mmeans[j, :], cov\u001B[38;5;241m=\u001B[39m\u001B[43mcov\u001B[49m\u001B[43m[\u001B[49m\u001B[43mj\u001B[49m\u001B[43m,\u001B[49m\u001B[43m \u001B[49m\u001B[43m:\u001B[49m\u001B[43m,\u001B[49m\u001B[43m \u001B[49m\u001B[43m:\u001B[49m\u001B[43m]\u001B[49m)\n\u001B[1;32m      7\u001B[0m         denominator \u001B[38;5;241m=\u001B[39m \u001B[38;5;28msum\u001B[39m([pi[j] \u001B[38;5;241m*\u001B[39m multivariate_normal\u001B[38;5;241m.\u001B[39mpdf(data[i, :], mean\u001B[38;5;241m=\u001B[39mmeans[_k, :], cov\u001B[38;5;241m=\u001B[39mcov[_k, :, :]) \u001B[38;5;28;01mfor\u001B[39;00m _k \u001B[38;5;129;01min\u001B[39;00m \u001B[38;5;28mrange\u001B[39m(k)])\n\u001B[1;32m      8\u001B[0m         gamma[i, j] \u001B[38;5;241m=\u001B[39m nominator \u001B[38;5;241m/\u001B[39m denominator\n",
      "\u001B[0;31mIndexError\u001B[0m: invalid index to scalar variable."
     ]
    }
   ],
   "source": [
    "num_iterations = 1000\n",
    "for i in range(num_iterations):\n",
    "    # E step\n",
    "    for i in range(N):\n",
    "        for j in range(k):\n",
    "            nominator = pi[j] * multivariate_normal.pdf(data[i, :], mean=means[j, :], cov=cov[j, :, :])\n",
    "            denominator = sum([pi[j] * multivariate_normal.pdf(data[i, :], mean=means[_k, :], cov=cov[_k, :, :]) for _k in range(k)])\n",
    "            gamma[i, j] = nominator / denominator\n",
    "\n",
    "    # M step\n",
    "    for i in range(k):\n",
    "        N_k = sum(gamma[:, i])\n",
    "        means[i, :] = [1/N_k * sum([gamma[l, i]*data[l, j] for l in range(N)]) for j in range(d)]\n",
    "        cov = 1/N_k * sum([gamma[n, i] * np.subtract(np.array(data[n]), means[i]).T @ np.subtract(np.array(data[n]), means[i]) for n in range(N)])\n",
    "        pi_k = N_k / N"
   ]
  },
  {
   "cell_type": "code",
   "execution_count": null,
   "id": "b9558376-4b40-4c78-b9d7-7dcbbc136e63",
   "metadata": {},
   "outputs": [],
   "source": [
    "N    = 200\n",
    "X    = np.linspace(-12, 12, N)\n",
    "Y    = np.linspace(-12, 12, N)\n",
    "X, Y = np.meshgrid(X, Y)\n",
    "pos  = np.dstack((X, Y))\n",
    "plt.figure()\n",
    "for i in range(k):\n",
    "    rv   = multivariate_normal(means[i], cov[i])\n",
    "    Z    = rv.pdf(pos)\n",
    "    plt.contour(X, Y, Z)\n",
    "\n",
    "plt.scatter(data[:, 0], data[:, 1])\n",
    "plt.show()"
   ]
  },
  {
   "cell_type": "code",
   "execution_count": null,
   "id": "23cc7b4a-34b5-491c-8887-055f68a0886b",
   "metadata": {},
   "outputs": [],
   "source": []
  }
 ],
 "metadata": {
  "kernelspec": {
   "display_name": "Python 3 (ipykernel)",
   "language": "python",
   "name": "python3"
  },
  "language_info": {
   "codemirror_mode": {
    "name": "ipython",
    "version": 3
   },
   "file_extension": ".py",
   "mimetype": "text/x-python",
   "name": "python",
   "nbconvert_exporter": "python",
   "pygments_lexer": "ipython3",
   "version": "3.10.4"
  }
 },
 "nbformat": 4,
 "nbformat_minor": 5
}
