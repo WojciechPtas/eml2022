{
 "cells": [
  {
   "cell_type": "code",
   "execution_count": 1,
   "id": "eb8e0c69",
   "metadata": {},
   "outputs": [],
   "source": [
    "import numpy as np\n",
    "import pandas as pd\n",
    "try:\n",
    "    from skmisc.loess import loess\n",
    "except ImportError:\n",
    "    from util import loess\n",
    "import matplotlib.pyplot as plt\n",
    "plt.rcParams['figure.figsize'] = [15, 10]"
   ]
  },
  {
   "cell_type": "markdown",
   "id": "1a71460e",
   "metadata": {},
   "source": [
    "Now, we can load the data at data.csv and turn it into the predictor X and the target y"
   ]
  },
  {
   "cell_type": "code",
   "execution_count": 2,
   "id": "eefb9298",
   "metadata": {},
   "outputs": [],
   "source": [
    "# X is contained in the first column of the data, y in the second."
   ]
  },
  {
   "cell_type": "markdown",
   "id": "86ab2e4c",
   "metadata": {},
   "source": [
    "Create a scatterplot of the data. "
   ]
  },
  {
   "cell_type": "code",
   "execution_count": null,
   "id": "84b257d8",
   "metadata": {},
   "outputs": [],
   "source": []
  },
  {
   "cell_type": "markdown",
   "id": "8497c59f",
   "metadata": {},
   "source": [
    "We now define the kernels $K_1,...,K_4$ as"
   ]
  },
  {
   "cell_type": "code",
   "execution_count": 3,
   "id": "b790f2d2",
   "metadata": {},
   "outputs": [],
   "source": [
    "def K1(x, x_):\n",
    "    pass\n",
    "\n",
    "def K2(x, x_, lam):\n",
    "    pass\n",
    "\n",
    "def K3(x, x_, lam):\n",
    "    pass\n",
    "\n",
    "def K4(x, x_, L):\n",
    "    pass"
   ]
  },
  {
   "cell_type": "markdown",
   "id": "0e288164",
   "metadata": {},
   "source": [
    "To write the function which takes $X, y$ and a kernel $K$ as input, we can do the following"
   ]
  },
  {
   "cell_type": "code",
   "execution_count": 4,
   "id": "044a81c0",
   "metadata": {},
   "outputs": [],
   "source": [
    "def pred(X, y, K):\n",
    "    from sklearn.metrics.pairwise import pairwise_kernels\n",
    "    # Start by computing the matrix of all weights we'll need at once.\n",
    "    pass\n",
    "    # Now, for each point we can compute the model using the corresponding weights, and make a prediction.\n",
    "    pass\n",
    "    # Return a vector of the predictions at each point in X.\n",
    "    return y_hat"
   ]
  },
  {
   "cell_type": "markdown",
   "id": "1b92ca0e",
   "metadata": {},
   "source": [
    "To actually use this function and show the fits of each kernel, we can iterate over all the kernels and fit the LOESS model for each of them."
   ]
  },
  {
   "cell_type": "code",
   "execution_count": 5,
   "id": "eeeb4f45",
   "metadata": {},
   "outputs": [
    {
     "ename": "NameError",
     "evalue": "name 'X' is not defined",
     "output_type": "error",
     "traceback": [
      "\u001b[0;31m---------------------------------------------------------------------------\u001b[0m",
      "\u001b[0;31mNameError\u001b[0m                                 Traceback (most recent call last)",
      "Input \u001b[0;32mIn [5]\u001b[0m, in \u001b[0;36m<cell line: 2>\u001b[0;34m()\u001b[0m\n\u001b[1;32m      1\u001b[0m \u001b[38;5;28;01mfrom\u001b[39;00m \u001b[38;5;21;01mfunctools\u001b[39;00m \u001b[38;5;28;01mimport\u001b[39;00m partial \u001b[38;5;66;03m# You may want to use this to make your life easier.\u001b[39;00m\n\u001b[0;32m----> 2\u001b[0m plt\u001b[38;5;241m.\u001b[39mscatter(\u001b[43mX\u001b[49m, y, c\u001b[38;5;241m=\u001b[39m\u001b[38;5;124m'\u001b[39m\u001b[38;5;124mb\u001b[39m\u001b[38;5;124m'\u001b[39m)\n\u001b[1;32m      3\u001b[0m \u001b[38;5;28;01mfor\u001b[39;00m kernel \u001b[38;5;129;01min\u001b[39;00m [K1, K2, K3, K4]:\n\u001b[1;32m      4\u001b[0m     \u001b[38;5;28;01mpass\u001b[39;00m\n",
      "\u001b[0;31mNameError\u001b[0m: name 'X' is not defined"
     ]
    }
   ],
   "source": [
    "from functools import partial # You may want to use this to make your life easier.\n",
    "plt.scatter(X, y, c='b')\n",
    "for kernel in [K1, K2, K3, K4]:\n",
    "    pass\n",
    "    \n",
    "# Adding a legend so we know which kernel produced what is good style.\n",
    "plt.legend()"
   ]
  },
  {
   "cell_type": "markdown",
   "id": "2d697692",
   "metadata": {},
   "source": [
    "We see..."
   ]
  }
 ],
 "metadata": {
  "kernelspec": {
   "display_name": "Python 3 (ipykernel)",
   "language": "python",
   "name": "python3"
  },
  "language_info": {
   "codemirror_mode": {
    "name": "ipython",
    "version": 3
   },
   "file_extension": ".py",
   "mimetype": "text/x-python",
   "name": "python",
   "nbconvert_exporter": "python",
   "pygments_lexer": "ipython3",
   "version": "3.9.9"
  }
 },
 "nbformat": 4,
 "nbformat_minor": 5
}
