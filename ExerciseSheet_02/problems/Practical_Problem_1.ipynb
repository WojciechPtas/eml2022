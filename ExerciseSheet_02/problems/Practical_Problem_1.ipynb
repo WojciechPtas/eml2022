{
 "cells": [
  {
   "cell_type": "code",
   "execution_count": 26,
   "id": "a9ed6b54-f74e-4341-bf36-10d5cc01a09e",
   "metadata": {},
   "outputs": [],
   "source": [
    "import numpy as np\n",
    "import pandas as pd\n",
    "import matplotlib.pyplot as plt"
   ]
  },
  {
   "cell_type": "markdown",
   "id": "20b95bf1",
   "metadata": {},
   "source": [
    "### 1. Phoneme Dataset\n",
    "Load the phoneme dataset using Pandas"
   ]
  },
  {
   "cell_type": "code",
   "execution_count": 27,
   "id": "21c9a895-9863-4a10-9c4b-fcc5dcb21283",
   "metadata": {},
   "outputs": [],
   "source": [
    "data = pd.read_csv('data/phoneme.csv')\n",
    "# print(data)\n",
    "\n",
    "# TODO\n",
    "# Split the dataset into a train and test dataset according to column \"speaker\".\n",
    "# Be sure to exclude row number, \"speaker\" and response columns from your features.\n",
    "train = data[data['speaker'].str.contains(\"train\")]\n",
    "test = data[data['speaker'].str.contains(\"test\")]\n",
    "\n",
    "y_train = train['g']\n",
    "y_test = test['g']\n",
    "X_train = train.drop(['g', 'row.names', 'speaker'], axis=1)\n",
    "X_test = test.drop(['g', 'row.names', 'speaker'], axis=1)"
   ]
  },
  {
   "cell_type": "markdown",
   "id": "e1545466-f4b8-4dac-aedc-23a28aaa34ba",
   "metadata": {},
   "source": [
    "### 2. LDA modelling\n",
    "Fit an LDA model. Compute and report the train and test error."
   ]
  },
  {
   "cell_type": "code",
   "execution_count": 28,
   "id": "c07740f4-6f7c-4f7f-9186-e808c6a1234a",
   "metadata": {},
   "outputs": [
    {
     "name": "stdout",
     "output_type": "stream",
     "text": [
      "Train score:  0.9440119760479042\n",
      "Test score:  0.9195893926432849\n"
     ]
    }
   ],
   "source": [
    "# TODO\n",
    "from sklearn.discriminant_analysis import LinearDiscriminantAnalysis\n",
    "\n",
    "lda_clf = LinearDiscriminantAnalysis()\n",
    "lda_clf.fit(X_train, y_train)\n",
    "print(\"Train score: \", lda_clf.score(X_train, y_train))\n",
    "\n",
    "print(\"Test score: \", lda_clf.score(X_test, y_test))"
   ]
  },
  {
   "cell_type": "markdown",
   "id": "6ab66f56-297f-4602-aac9-bf6ea03d322a",
   "metadata": {},
   "source": [
    "### 3. LDA canonical coordinates\n",
    " Plot the projection of the training data onto the first two canonical coordinates of the LDA and report your findings. Investigate the data projected on further dimensions using the \\texttt{dimen} parameter."
   ]
  },
  {
   "cell_type": "code",
   "execution_count": 29,
   "id": "b7100c5d-6304-4720-ac5b-0cba6277b143",
   "metadata": {},
   "outputs": [],
   "source": [
    "# TODO\n"
   ]
  },
  {
   "cell_type": "markdown",
   "id": "d2205c6e-02cf-4228-8f81-9396308ba0f7",
   "metadata": {},
   "source": [
    "### 4. LDA on \"aa\", \"ao\"\n",
    "Select the two phonemes \"aa\" and \"ao\". Fit an LDA model on this data set and repeat the steps\n",
    "    done in (2)."
   ]
  },
  {
   "cell_type": "code",
   "execution_count": 42,
   "id": "b7709f18-b292-4ae3-a13e-d0424e329ed2",
   "metadata": {},
   "outputs": [
    {
     "name": "stdout",
     "output_type": "stream",
     "text": [
      "Train score:  0.8935837245696401\n",
      "Test score:  0.785876993166287\n"
     ]
    }
   ],
   "source": [
    "# TODO\n",
    "aa_ao_train_indices = y_train.str.contains(\"aa|ao\")\n",
    "aa_ao_test_indices = y_test.str.contains(\"aa|ao\")\n",
    "\n",
    "y_train_aa_ao = y_train[aa_ao_train_indices]\n",
    "X_train_aa_ao = X_train[aa_ao_train_indices]\n",
    "y_test_aa_ao = y_test[aa_ao_test_indices]\n",
    "X_test_aa_ao = X_test[aa_ao_test_indices]\n",
    "\n",
    "lda_aa_ao_clf = LinearDiscriminantAnalysis()\n",
    "lda_aa_ao_clf.fit(X_train_aa_ao, y_train_aa_ao)\n",
    "print(\"Train score: \", lda_aa_ao_clf.score(X_train_aa_ao, y_train_aa_ao))\n",
    "\n",
    "print(\"Test score: \", lda_aa_ao_clf.score(X_test_aa_ao, y_test_aa_ao))"
   ]
  },
  {
   "cell_type": "markdown",
   "id": "2b231d3e",
   "metadata": {},
   "source": [
    "## 5. QDA\n",
    "Repeat steps (b) and (d) using QDA and report your findings. Would you prefer LDA or QDA in this example? Why?"
   ]
  },
  {
   "cell_type": "code",
   "execution_count": 31,
   "id": "52089486",
   "metadata": {},
   "outputs": [
    {
     "name": "stdout",
     "output_type": "stream",
     "text": [
      "Train score:  1.0\n",
      "Test score:  0.8417450812660393\n"
     ]
    }
   ],
   "source": [
    "# TODO\n",
    "from sklearn.discriminant_analysis import QuadraticDiscriminantAnalysis\n",
    "\n",
    "qda_clf = QuadraticDiscriminantAnalysis()\n",
    "qda_clf.fit(X_train, y_train)\n",
    "print(\"Train score: \", qda_clf.score(X_train, y_train))\n",
    "\n",
    "print(\"Test score: \", qda_clf.score(X_test, y_test))"
   ]
  },
  {
   "cell_type": "code",
   "execution_count": 44,
   "outputs": [
    {
     "name": "stdout",
     "output_type": "stream",
     "text": [
      "Train score:  1.0\n",
      "Test score:  0.8417450812660393\n"
     ]
    }
   ],
   "source": [
    "from sklearn.discriminant_analysis import QuadraticDiscriminantAnalysis\n",
    "\n",
    "qda_clf = QuadraticDiscriminantAnalysis()\n",
    "qda_clf.fit(X_train, y_train)\n",
    "print(\"Train score: \", qda_clf.score(X_train, y_train))\n",
    "\n",
    "print(\"Test score: \", qda_clf.score(X_test, y_test))"
   ],
   "metadata": {
    "collapsed": false
   }
  },
  {
   "cell_type": "code",
   "execution_count": 43,
   "outputs": [
    {
     "name": "stdout",
     "output_type": "stream",
     "text": [
      "Train score:  1.0\n",
      "Test score:  0.6605922551252847\n"
     ]
    }
   ],
   "source": [
    "qda_aa_ao_clf = QuadraticDiscriminantAnalysis()\n",
    "qda_aa_ao_clf.fit(X_train_aa_ao, y_train_aa_ao)\n",
    "print(\"Train score: \", qda_aa_ao_clf.score(X_train_aa_ao, y_train_aa_ao))\n",
    "\n",
    "print(\"Test score: \", qda_aa_ao_clf.score(X_test_aa_ao, y_test_aa_ao))"
   ],
   "metadata": {
    "collapsed": false
   }
  },
  {
   "cell_type": "markdown",
   "source": [
    "##### Answer\n",
    "We would prefer LDA over QDA because it generalized better on the testing set\n",
    "The QDA overfit a bit when it achieved 100% train set score then performed worse on the test set."
   ],
   "metadata": {
    "collapsed": false
   }
  },
  {
   "cell_type": "markdown",
   "id": "019d08a3",
   "metadata": {},
   "source": [
    "## 6. Confusion Matrices\n",
    "Generate confusion matrices for the LDA and QDA model for \"aa\" and \"ao\". Which differences can you observe between the models?"
   ]
  },
  {
   "cell_type": "code",
   "execution_count": 56,
   "id": "468e438b",
   "metadata": {},
   "outputs": [
    {
     "data": {
      "text/plain": "<AxesSubplot: >"
     },
     "execution_count": 56,
     "metadata": {},
     "output_type": "execute_result"
    },
    {
     "data": {
      "text/plain": "<Figure size 640x480 with 2 Axes>",
      "image/png": "[encoded data removed]"
     },
     "metadata": {},
     "output_type": "display_data"
    }
   ],
   "source": [
    "# TODO\n",
    "from sklearn.metrics import confusion_matrix\n",
    "import seaborn as sns\n",
    "\n",
    "sns.heatmap(confusion_matrix(y_test_aa_ao, y_pred = lda_aa_ao_clf.predict(X_test_aa_ao)), cmap=\"Blues\")"
   ]
  },
  {
   "cell_type": "code",
   "execution_count": 57,
   "outputs": [
    {
     "data": {
      "text/plain": "<AxesSubplot: >"
     },
     "execution_count": 57,
     "metadata": {},
     "output_type": "execute_result"
    },
    {
     "data": {
      "text/plain": "<Figure size 640x480 with 2 Axes>",
      "image/png": "[encoded data removed]"
     },
     "metadata": {},
     "output_type": "display_data"
    }
   ],
   "source": [
    "sns.heatmap(confusion_matrix(y_test_aa_ao, y_pred = qda_aa_ao_clf.predict(X_test_aa_ao)), cmap=\"Blues\")"
   ],
   "metadata": {
    "collapsed": false
   }
  },
  {
   "cell_type": "markdown",
   "source": [
    "##### Observations\n",
    "The QDA model overfit and was unable to separate the classes correctly which can be clearly seen in the confusion matrix\n",
    "Whereas, the LDA model performed well with the diagonal being dark and the 2nd diagonal being light"
   ],
   "metadata": {
    "collapsed": false
   }
  },
  {
   "cell_type": "code",
   "execution_count": null,
   "outputs": [],
   "source": [],
   "metadata": {
    "collapsed": false
   }
  }
 ],
 "metadata": {
  "kernelspec": {
   "display_name": "Python 3 (ipykernel)",
   "language": "python",
   "name": "python3"
  },
  "language_info": {
   "codemirror_mode": {
    "name": "ipython",
    "version": 3
   },
   "file_extension": ".py",
   "mimetype": "text/x-python",
   "name": "python",
   "nbconvert_exporter": "python",
   "pygments_lexer": "ipython3"
  }
 },
 "nbformat": 4,
 "nbformat_minor": 5
}
